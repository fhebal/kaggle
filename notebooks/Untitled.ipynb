{
 "cells": [
  {
   "cell_type": "code",
   "execution_count": 59,
   "id": "0a88fc95-da1d-4e29-8a03-574a411d55bb",
   "metadata": {},
   "outputs": [
    {
     "name": "stdout",
     "output_type": "stream",
     "text": [
      "{'accuracy': 0.7780548628428927, 'precision': 0.768049980026326, 'recall': 0.7662297960909298, 'auc': 0.7909200299196724}\n"
     ]
    }
   ],
   "source": [
    "from sklearn.compose import ColumnTransformer\n",
    "from sklearn.impute import SimpleImputer\n",
    "from sklearn.pipeline import Pipeline\n",
    "from sklearn.preprocessing import OneHotEncoder, StandardScaler\n",
    "from sklearn.feature_extraction.text import CountVectorizer\n",
    "from sklearn.linear_model import LogisticRegression\n",
    "from sklearn.model_selection import train_test_split\n",
    "import pandas as pd\n",
    "from sklearn.metrics import (\n",
    "    accuracy_score,\n",
    "    precision_score,\n",
    "    recall_score,\n",
    "    roc_auc_score,\n",
    ")\n",
    "\n",
    "\n",
    "\n",
    "numeric_transformer = Pipeline(steps=[\n",
    "        (\"imputer\", SimpleImputer(strategy='median'),),\n",
    "        (\"scaler\", StandardScaler()),\n",
    "    ]\n",
    ")\n",
    "categorical_transformer = Pipeline(steps=[\n",
    "        (\"imputer\", SimpleImputer(strategy='most_frequent', fill_value='missing',),),\n",
    "        (\"encoder\", OneHotEncoder(handle_unknown=\"ignore\")),\n",
    "    ]\n",
    ")\n",
    "text_transformer = Pipeline(steps=[\n",
    "    ('text_bow', CountVectorizer())\n",
    "])\n",
    "\n",
    "preprocessor = ColumnTransformer(\n",
    "    transformers=[\n",
    "#        (\"num\", numeric_transformer, ['Age']),\n",
    "        (\"text\", text_transformer, 'Name'),\n",
    "#        (\"cat\", categorical_transformer, ['Cabin']),\n",
    "    ]\n",
    ")\n",
    "\n",
    "pipeline = Pipeline(steps=[\n",
    "        (\"preprocessor\", preprocessor),\n",
    "        (\"model\", LogisticRegression())\n",
    "    ]\n",
    ")\n",
    "\n",
    "textTransformer_0 = Pipeline(steps=[\n",
    "    ('text_bow', CountVectorizer())\n",
    "])\n",
    "\n",
    "\n",
    "train = pd.read_csv('../data/train.csv')\n",
    "X_train = train.drop('Survived', axis=1)\n",
    "y_train = train['Survived']\n",
    "X_train, X_test, y_train, y_test = train_test_split(\n",
    "    X_train, y_train, test_size=0.9, random_state=42\n",
    "    )\n",
    "pipeline.fit(X_train, y_train)\n",
    "y_pred = pipeline.predict(X_test)\n",
    "y_pred_proba = pipeline.predict_proba(X_test)[:, 1]\n",
    "\n",
    "\n",
    "results = {\n",
    "    \"accuracy\": accuracy_score(y_test, y_pred),\n",
    "    \"precision\": precision_score(y_test, y_pred, average=\"macro\"),\n",
    "    \"recall\": recall_score(y_test, y_pred, average=\"macro\"),\n",
    "    \"auc\": roc_auc_score(y_test, y_pred_proba, average=\"macro\"),\n",
    "}\n",
    "\n",
    "print(results)"
   ]
  },
  {
   "cell_type": "code",
   "execution_count": 57,
   "id": "757be670-2b6d-4033-8a74-413f7f526464",
   "metadata": {},
   "outputs": [
    {
     "name": "stdout",
     "output_type": "stream",
     "text": [
      "accuracy 0.7780548628428927\n"
     ]
    }
   ],
   "source": [
    "catTransformer = Pipeline(steps=[\n",
    "    ('cat_imputer', SimpleImputer(strategy='constant', fill_value='missing')),\n",
    "    ('cat_ohe', OneHotEncoder(handle_unknown='ignore'))\n",
    "])\n",
    "text_transformer = Pipeline(steps=[\n",
    "    ('text_bow', CountVectorizer())\n",
    "])\n",
    "numTransformer = Pipeline(steps=[\n",
    "    ('imputer', SimpleImputer(strategy='median')),('scaler', StandardScaler())\n",
    "])\n",
    "\n",
    "ct = ColumnTransformer(\n",
    "transformers=[\n",
    "   # ('cat', catTransformer, ['Cabin']),\n",
    "   # ('num', numTransformer, ['Age']),\n",
    "   ('text1', text_transformer, 'Name'),\n",
    "])\n",
    "\n",
    "pipeline = Pipeline(steps=[\n",
    "    ('feature_engineer', ct),\n",
    "    ('RF', LogisticRegression())\n",
    "])\n",
    "\n",
    "pipeline.fit(X_train, y_train)\n",
    "preds = pipeline.predict(X_test)\n",
    "print('accuracy %s' % accuracy_score(preds, y_test))\n"
   ]
  }
 ],
 "metadata": {
  "kernelspec": {
   "display_name": "Python 3 (ipykernel)",
   "language": "python",
   "name": "python3"
  },
  "language_info": {
   "codemirror_mode": {
    "name": "ipython",
    "version": 3
   },
   "file_extension": ".py",
   "mimetype": "text/x-python",
   "name": "python",
   "nbconvert_exporter": "python",
   "pygments_lexer": "ipython3",
   "version": "3.10.13"
  }
 },
 "nbformat": 4,
 "nbformat_minor": 5
}
